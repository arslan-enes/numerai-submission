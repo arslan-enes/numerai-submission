{
 "cells": [
  {
   "cell_type": "code",
   "execution_count": 1,
   "metadata": {},
   "outputs": [
    {
     "name": "stderr",
     "output_type": "stream",
     "text": [
      "2022-05-18 02:49:40,289 INFO numerapi.utils: starting download\n",
      "numerai_datasets.zip: 100%|█████████▉| 456M/456M [30:11<00:00, 229kB/s]    2022-05-18 03:19:54,235 INFO numerapi.utils: starting download\n",
      "numerai_live_data.parquet: 1.03MB [00:04, 242kB/s]                           \n",
      "numerai_datasets.zip: 456MB [30:31, 229kB/s]                           "
     ]
    }
   ],
   "source": [
    "from numerapi import NumerAPI\n",
    "napi = NumerAPI()\n",
    "napi.download_dataset(\"v2/numerai_datasets.zip\", \"numerai_datasets.zip\")\n",
    "napi.download_dataset(\"v2/numerai_live_data.parquet\", \"numerai_live_data.parquet\")"
   ]
  },
  {
   "cell_type": "code",
   "execution_count": 2,
   "metadata": {},
   "outputs": [],
   "source": [
    "import zipfile\n",
    "with zipfile.ZipFile(\"numerai_datasets.zip\", 'r') as zip_ref:\n",
    "  zip_ref.extractall()"
   ]
  },
  {
   "cell_type": "code",
   "execution_count": null,
   "metadata": {},
   "outputs": [],
   "source": []
  }
 ],
 "metadata": {
  "interpreter": {
   "hash": "c0195d90842d7669ac15b403171f45e7c773915ce36e614ff584be3aed6bf961"
  },
  "kernelspec": {
   "display_name": "Python 3.7.6 ('base')",
   "language": "python",
   "name": "python3"
  },
  "language_info": {
   "codemirror_mode": {
    "name": "ipython",
    "version": 3
   },
   "file_extension": ".py",
   "mimetype": "text/x-python",
   "name": "python",
   "nbconvert_exporter": "python",
   "pygments_lexer": "ipython3",
   "version": "3.7.6"
  },
  "orig_nbformat": 4
 },
 "nbformat": 4,
 "nbformat_minor": 2
}
